{
 "cells": [
  {
   "cell_type": "code",
   "execution_count": 1,
   "id": "b0906e49-5ac6-48d9-a506-ea3023108fd2",
   "metadata": {},
   "outputs": [],
   "source": [
    "from clutter_filter import GroundClutterFilter\n",
    "import numpy as np\n",
    "import glob, os\n",
    "# import radarkit\n",
    "import radarkitIQ as radarkit\n",
    "import momentgen as mg"
   ]
  },
  {
   "cell_type": "code",
   "execution_count": 2,
   "id": "479577be-4e78-466f-a27c-378712273f8e",
   "metadata": {},
   "outputs": [
    {
     "name": "stdout",
     "output_type": "stream",
     "text": [
      "Filename: ../data/20240524/RAXPOL-20240524-000839.083.rkc\n",
      "preface = RadarKit/IQ   buildNo = 7\n",
      "Pulse data size: 986553792\n",
      "gateCount = 12458   capacity = 36000   downSampledGateCount = 1246\n",
      "data offset = 4792\n",
      "Reading pulses ...\n",
      "Number of pulses: 49014\n",
      "[( 74031, 101289, 18507750, 3311, 36000, 12458, 1246, 10, 33, 1716509319,  83389, 86919.0868477 , [113,   0,   0,   0], [ 0, 33,  0,  0], 3, 0, 0, 3., 0.18127692, 338.99963, -0.01098648, -6.449073 , [0, 0, 0, 0, 0, 0, 0, 0, 0, 0, 0, 0, 0, 0, 0, 0, 0, 0, 0, 0, 0, 0, 0, 0, 0, 0, 0, 0, 0, 0, 0, 0, 0, 0, 0, 0, 0, 0, 0, 0, 0, 0, 0, 0, 0, 0, 0, 0, 0, 0, 0, 0, 0, 0, 0, 0, 0, 0, 0, 0, 0, 0, 0, 0, 0, 0, 0, 0, 0, 0, 0, 0, 0, 0, 0, 0, 0, 0, 0, 0, 0, 0, 0, 0], [[[ 1.72723608e+03, -5.12794922e+03], [-2.38435699e+02,  8.28516235e+01], [-4.36393776e+01, -3.22552567e+01], ..., [ 1.89736032e+00, -1.70763168e+01], [-3.79474640e+00, -5.05964279e+00], [-3.79477215e+00,  1.77087612e+01]], [[-1.46457725e+04, -8.52739844e+03], [-5.03434601e+02, -5.86286255e+02], [-2.93459412e+02,  3.60499001e+01], ..., [ 1.26489258e+00, -4.42717361e+00], [-3.79474258e+00, -1.26491737e+00], [-6.32472992e-01,  1.01192942e+01]]])\n",
      " ( 74032, 101290, 18508000, 3311, 36000, 12458, 1246, 10, 33, 1716509319,  83417, 86919.08709319, [113,   0,   0,   0], [ 0, 33,  0,  0], 3, 0, 0, 3., 0.18127692, 338.9983 , -0.01098648, -6.449073 , [0, 0, 0, 0, 0, 0, 0, 0, 0, 0, 0, 0, 0, 0, 0, 0, 0, 0, 0, 0, 0, 0, 0, 0, 0, 0, 0, 0, 0, 0, 0, 0, 0, 0, 0, 0, 0, 0, 0, 0, 0, 0, 0, 0, 0, 0, 0, 0, 0, 0, 0, 0, 0, 0, 0, 0, 0, 0, 0, 0, 0, 0, 0, 0, 0, 0, 0, 0, 0, 0, 0, 0, 0, 0, 0, 0, 0, 0, 0, 0, 0, 0, 0, 0], [[[ 5.23483398e+03, -2.85933130e+03], [-1.05619980e+02,  2.00488373e+02], [ 3.22552948e+01, -3.79473267e+01], ..., [-7.58949280e+00, -3.79474449e+00], [-3.16224384e+00,  6.32452011e-01], [-5.69209099e+00,  1.89737511e+00]], [[-1.36616719e+04, -9.44698730e+03], [-4.93315338e+02, -4.95845154e+02], [-2.97254150e+02,  2.15034504e+01], ..., [ 6.32490158e-01,  1.89736938e+00], [-5.05964661e+00,  8.22189713e+00], [-1.01192837e+01,  1.26491833e+00]]])\n",
      " ( 74033, 101291, 18508250, 3311, 36000, 12458, 1246, 10, 33, 1716509319,  83440, 86919.08734224, [113,   0,   0,   0], [ 0, 33,  0,  0], 3, 0, 0, 3., 0.18127692, 338.99692, -0.01098648, -6.449073 , [0, 0, 0, 0, 0, 0, 0, 0, 0, 0, 0, 0, 0, 0, 0, 0, 0, 0, 0, 0, 0, 0, 0, 0, 0, 0, 0, 0, 0, 0, 0, 0, 0, 0, 0, 0, 0, 0, 0, 0, 0, 0, 0, 0, 0, 0, 0, 0, 0, 0, 0, 0, 0, 0, 0, 0, 0, 0, 0, 0, 0, 0, 0, 0, 0, 0, 0, 0, 0, 0, 0, 0, 0, 0, 0, 0, 0, 0, 0, 0, 0, 0, 0, 0], [[[ 4.31587646e+03, -3.45194214e+03], [-1.42302444e+02,  1.59378784e+02], [ 1.77087708e+01, -2.46657829e+01], ..., [-6.95703888e+00, -4.42718506e+00], [-1.26490784e+00,  1.45464783e+01], [-2.52984047e+00, -1.45465164e+01]], [[-1.39823262e+04, -9.22309863e+03], [-4.72444275e+02, -5.08494232e+02], [-2.89032257e+02,  1.89736290e+01], ..., [-8.85443878e+00, -8.22192001e+00], [ 6.32454300e+00, -1.20166502e+01], [-1.26490211e+00, -1.64438553e+01]]])\n",
      " ...\n",
      " (123042, 150300, 30760500, 3311, 36000, 12458, 1246, 10, 33, 1716509331, 337150, 86931.33772793, [ 63, 242,   0,   0], [ 0, 38,  0,  0], 3, 0, 0, 3., 0.20874313, 269.97046,  0.00549324, -5.1087203, [0, 0, 0, 0, 0, 0, 0, 0, 0, 0, 0, 0, 0, 0, 0, 0, 0, 0, 0, 0, 0, 0, 0, 0, 0, 0, 0, 0, 0, 0, 0, 0, 0, 0, 0, 0, 0, 0, 0, 0, 0, 0, 0, 0, 0, 0, 0, 0, 0, 0, 0, 0, 0, 0, 0, 0, 0, 0, 0, 0, 0, 0, 0, 0, 0, 0, 0, 0, 0, 0, 0, 0, 0, 0, 0, 0, 0, 0, 0, 0, 0, 0, 0, 0], [[[ 1.96503931e+03, -4.93694775e+03], [-1.21431458e+02,  7.14674759e+01], [ 8.66464539e+01,  2.71955795e+01], ..., [-4.42718697e+00,  9.48679256e+00], [-1.89738214e+00,  2.02385864e+01], [-6.32449508e-01,  1.51789150e+01]], [[-1.44889238e+04, -8.58178809e+03], [-4.69282043e+02, -4.29437256e+02], [ 6.83051376e+01,  1.53686615e+02], ..., [ 1.26492214e+00,  1.26491404e+01], [-5.69210625e+00,  8.85437107e+00], [-6.95702553e+00,  6.32461548e-01]]])\n",
      " (123043, 150301, 30760750, 3311, 36000, 12458, 1246, 10, 33, 1716509331, 337173, 86931.337977  , [ 63, 242,   0,   0], [ 0, 38,  0,  0], 3, 0, 0, 3., 0.20874313, 269.96985,  0.00549324, -5.1087203, [0, 0, 0, 0, 0, 0, 0, 0, 0, 0, 0, 0, 0, 0, 0, 0, 0, 0, 0, 0, 0, 0, 0, 0, 0, 0, 0, 0, 0, 0, 0, 0, 0, 0, 0, 0, 0, 0, 0, 0, 0, 0, 0, 0, 0, 0, 0, 0, 0, 0, 0, 0, 0, 0, 0, 0, 0, 0, 0, 0, 0, 0, 0, 0, 0, 0, 0, 0, 0, 0, 0, 0, 0, 0, 0, 0, 0, 0, 0, 0, 0, 0, 0, 0], [[[ 5.06027637e+03, -2.97886548e+03], [-3.03578415e+01,  1.29653381e+02], [ 7.02026138e+01, -4.42720079e+00], ..., [-6.32440150e-01, -1.13842010e+01], [ 1.26494098e+00, -2.19345093e-05], [-5.05963802e+00, -1.39140520e+01]], [[-1.36932949e+04, -9.43244141e+03], [-4.74341675e+02, -3.67456726e+02], [ 8.60138931e+01,  1.57481339e+02], ..., [ 6.32470131e-01, -1.64438171e+01], [-4.42719173e+00, -1.20166492e+01], [-6.32460213e+00,  2.52983332e+00]]])\n",
      " (123044, 150302, 30761000, 3311, 36000, 12458, 1246, 10, 37, 1716509331, 337205, 86931.33822247, [ 63, 232,   0,   0], [ 0, 38,  0,  0], 3, 0, 0, 3., 0.20874313, 269.9691 ,  0.00549324, -4.943923 , [0, 0, 0, 0, 0, 0, 0, 0, 0, 0, 0, 0, 0, 0, 0, 0, 0, 0, 0, 0, 0, 0, 0, 0, 0, 0, 0, 0, 0, 0, 0, 0, 0, 0, 0, 0, 0, 0, 0, 0, 0, 0, 0, 0, 0, 0, 0, 0, 0, 0, 0, 0, 0, 0, 0, 0, 0, 0, 0, 0, 0, 0, 0, 0, 0, 0, 0, 0, 0, 0, 0, 0, 0, 0, 0, 0, 0, 0, 0, 0, 0, 0, 0, 0], [[[ 4.27792871e+03, -3.45257471e+03], [-5.12288895e+01,  9.42358551e+01], [ 6.95701370e+01, -6.32455540e+00], ..., [ 1.89729357e+00,  2.52983117e+00], [ 3.79470921e+00, -1.26489973e+00], [-6.32481813e-01,  6.32451725e+00]], [[-1.39778984e+04, -9.27116504e+03], [-4.66752197e+02, -4.04139130e+02], [ 9.55007172e+01,  1.61276093e+02], ..., [-3.16227317e+00, -8.22186375e+00], [-5.69208908e+00,  1.89737546e+00], [-6.32444978e-01, -9.48680210e+00]]])]\n"
     ]
    }
   ],
   "source": [
    "fname = '../data/20240524/RAXPOL-20240524-000839.083.rkc'\n",
    "# rkid = radarkit.open(fname)\n",
    "# out = rkid.read()\n",
    "rkid = radarkit.rkcfile(fname)\n",
    "print(rkid.pulses)"
   ]
  },
  {
   "cell_type": "code",
   "execution_count": 3,
   "id": "4e83ebb6-d3c7-4210-816b-4e43833c12de",
   "metadata": {},
   "outputs": [],
   "source": [
    "# ciq = out['ciq']\n",
    "\n",
    "# pulses_new = []\n",
    "# print(np.array(pulses[0]['iq'][0]))\n",
    "# for pulse in pulses:\n",
    "\t# pulses_new.append(pulse['iq'])\n",
    "# pulses = np.array(pulses_new)\n",
    "\n",
    "pulses = rkid.pulses['iq']\n",
    "# (pulse, iq, gate, hv)\n",
    "pulses = pulses.transpose((1,2,3,0))\n",
    "# (iq, gate, hv, pulse)\n",
    "pulses = pulses[0,:,:,:] + 1.j*pulses[1,:,:,:]\n",
    "# (gate, hv, pulse)\n",
    "pulses = pulses.transpose((0,2,1)).astype(np.complex128)\n",
    "# (gate, pulse, hv)\n",
    "\n",
    "# ciq = pulses\n",
    "\n",
    "# lamb = rkid.desc.wavelength\n",
    "# prt = radarkit.read_RKFloat_array(rkid.configs.contents.prt,1)\n",
    "lamb = rkid.header['desc']['wavelength']\n",
    "prt = rkid.header['config']['prt']\n",
    "c = 299,792,458\n",
    "sample_freq = int(rkid.header['waveform']['fs'])\n",
    "sample_time = 1/sample_freq\n",
    "va = lamb/(4*prt)\n",
    "# C = np.abs(radarkit.read_RKComplex_array(rkid.configs.contents.systemZCal, 1)[0])\n",
    "# l = np.abs(radarkit.read_RKComplex_array(rkid.configs.contents.systemZCal, 2)[1])\n",
    "\n",
    "totaln = pulses.shape[1]\n",
    "count = 100 # Pulses per ray\n",
    "rayCount = int(np.floor(totaln/count)) # Rays per sweep\n",
    "gateCount = pulses.shape[0]\n",
    "n = rayCount * count\n",
    "\n",
    "az = rkid.pulses['azimuthDegrees']\n",
    "el = rkid.pulses['elevationDegrees']\n",
    "\n",
    "# # he's expecting ciq to be in (pulse, h/v, range)\n",
    "# X_h = np.reshape(ciq[:n, 0, :], (rayCount, count, -1))\n",
    "# # transpose (ray, pulse, range(?)) to (range, ray, pulse)\n",
    "# X_h = np.transpose(X_h, (2, 0, 1))\n",
    "\n",
    "# X_v = np.reshape(ciq[:n, 1, :], (rayCount, count, -1))\n",
    "# X_v = np.transpose(X_v, (2, 0, 1))\n",
    "\n",
    "X_h = pulses[:,:n,0]\n",
    "# (gate, pulse)\n",
    "X_h = np.reshape(X_h, (gateCount, rayCount, count))\n",
    "# (gate, ray, pulse)\n",
    "\n",
    "X_v = pulses[:,:n,1]\n",
    "X_v = np.reshape(X_v, (gateCount, rayCount, count))\n",
    "\n",
    "az = np.reshape(az[:n], (rayCount, count))\n",
    "az = az[:,0]\n",
    "el = np.reshape(el[:n], (rayCount, count))\n",
    "el = np.nanmean(el, axis=1)\n"
   ]
  },
  {
   "cell_type": "code",
   "execution_count": 4,
   "id": "4dce98a2-a4e9-4e67-ac1a-cccca5a5f1b5",
   "metadata": {},
   "outputs": [
    {
     "data": {
      "text/plain": [
       "'# set some imporatnt radar parameter\\nwavelength_scalar = lamb\\n# prt_scalar = prt[0]\\nnum_samples_actual = X_h.shape[2]\\n\\n#filter the I/Q time series for the horizontal and vertical polarizations\\nfilter_inst = GroundClutterFilter(\\n\\twavelength=lamb,\\n\\tscan_rate=1/(count * prt),\\n/tprt=prt,\\n\\tnum_samples=count\\n)\\n\\nprint(\"\\n--- Filtering X_h (Horizontal Polarization) ---\")\\nfiltered_i_h, filtered_q_h, poly_order_map_h, clutter_i_trend_map_h, clutter_q_trend_map_h, interpolated_spectrum_map_h = \\tfilter_inst.filter_iq_data(X_h.real, X_h.imag, cnr_db_map=None, apply_interpolation=True)\\n\\nfiltered_X_h_optimized = filtered_i_h + 1j * filtered_q_h\\n\\ndel filtered_i_h, filtered_q_h, poly_order_map_h, clutter_i_trend_map_h, clutter_q_trend_map_h, interpolated_spectrum_map_h\\n\\nprint(\"\\n--- Filtering X_v (Vertical Polarization) ---\")\\nfiltered_i_v, filtered_q_v, poly_order_map_v, clutter_i_trend_map_v, clutter_q_trend_map_v, interpolated_spectrum_map_v = \\tfilter_inst.filter_iq_data(X_v.real, X_v.imag, cnr_db_map=None, apply_interpolation=True)\\n\\nfiltered_X_v_optimized = filtered_i_v + 1j * filtered_q_v\\n\\ndel filtered_i_v, filtered_q_v, poly_order_map_v, clutter_i_trend_map_v, clutter_q_trend_map_v, interpolated_spectrum_map_v\\n\\nprint(\"\\nOptimization complete. Filtered data is in filtered_X_h_optimized and filtered_X_v_optimized.\")'"
      ]
     },
     "execution_count": 4,
     "metadata": {},
     "output_type": "execute_result"
    }
   ],
   "source": [
    "\"\"\"# set some imporatnt radar parameter\n",
    "wavelength_scalar = lamb\n",
    "# prt_scalar = prt[0]\n",
    "num_samples_actual = X_h.shape[2]\n",
    "\n",
    "#filter the I/Q time series for the horizontal and vertical polarizations\n",
    "filter_inst = GroundClutterFilter(\n",
    "\twavelength=lamb,\n",
    "\tscan_rate=1/(count * prt),\n",
    "/tprt=prt,\n",
    "\tnum_samples=count\n",
    ")\n",
    "\n",
    "print(\"\\n--- Filtering X_h (Horizontal Polarization) ---\")\n",
    "filtered_i_h, filtered_q_h, poly_order_map_h, clutter_i_trend_map_h, clutter_q_trend_map_h, interpolated_spectrum_map_h = \\\n",
    "\tfilter_inst.filter_iq_data(X_h.real, X_h.imag, cnr_db_map=None, apply_interpolation=True)\n",
    "\n",
    "filtered_X_h_optimized = filtered_i_h + 1j * filtered_q_h\n",
    "\n",
    "del filtered_i_h, filtered_q_h, poly_order_map_h, clutter_i_trend_map_h, clutter_q_trend_map_h, interpolated_spectrum_map_h\n",
    "\n",
    "print(\"\\n--- Filtering X_v (Vertical Polarization) ---\")\n",
    "filtered_i_v, filtered_q_v, poly_order_map_v, clutter_i_trend_map_v, clutter_q_trend_map_v, interpolated_spectrum_map_v = \\\n",
    "\tfilter_inst.filter_iq_data(X_v.real, X_v.imag, cnr_db_map=None, apply_interpolation=True)\n",
    "\n",
    "filtered_X_v_optimized = filtered_i_v + 1j * filtered_q_v\n",
    "\n",
    "del filtered_i_v, filtered_q_v, poly_order_map_v, clutter_i_trend_map_v, clutter_q_trend_map_v, interpolated_spectrum_map_v\n",
    "\n",
    "print(\"\\nOptimization complete. Filtered data is in filtered_X_h_optimized and filtered_X_v_optimized.\")\"\"\""
   ]
  },
  {
   "cell_type": "code",
   "execution_count": 5,
   "id": "270c3a6c",
   "metadata": {},
   "outputs": [
    {
     "name": "stderr",
     "output_type": "stream",
     "text": [
      "/Users/jwt/Documents/School/5. JuniorFall/WRT/Final/clutter_filter/momentgen.py:64: RuntimeWarning: invalid value encountered in log10\n",
      "  ZDROUT[it,ir] = 10*np.log10(S_h/S_v) + 10*np.log10(Cd if not Cd==0 else 1e-20)\n",
      "/Users/jwt/Documents/School/5. JuniorFall/WRT/Final/clutter_filter/momentgen.py:65: RuntimeWarning: invalid value encountered in sqrt\n",
      "  RHOHVOUT[it,ir] = np.abs(ccf(X_h, X_v, 0))/np.sqrt(S_h*S_v)\n",
      "/Users/jwt/Documents/School/5. JuniorFall/WRT/Final/clutter_filter/momentgen.py:61: RuntimeWarning: invalid value encountered in log10\n",
      "  DBZOUT[it,ir] = 10*np.log10(S_h) + 20*np.log10(r if not r==0 else 1e-20) + 10*np.log10(C if not C==0 else 1e-20)\n",
      "/Users/jwt/Documents/School/5. JuniorFall/WRT/Final/clutter_filter/momentgen.py:63: RuntimeWarning: invalid value encountered in log\n",
      "  WIDTHOUT[it,ir] = (np.sqrt(2)*va/np.pi)*np.sqrt(np.abs(np.log(S_h/np.abs(acf(X_h,1)))))\n"
     ]
    }
   ],
   "source": [
    "noise = rkid.header['config']['noise']\n",
    "N_h, N_v = noise \n",
    "if rkid.header['buildNo'] >= 4:\n",
    "\tif rkid.header['dataType'] == 'raw':\n",
    "\t\tdr = rkid.header['config']['pulseGateSize']\n",
    "\t\t# dt = dr * 2 / (c/1e6)\n",
    "\telif rkid.header['dataType'] == 'compressed':\n",
    "\t\tdr = rkid.header['desc']['pulseToRayRatio'] * rkid.header['config']['pulseGateSize']\n",
    "\t\t# dt = dr * 2 / (c/1e6)\n",
    "\telse:\n",
    "\t\tprint(\"Inconsistency detected. This should not happen.\")\n",
    "\t\tdr = 30.\n",
    "\t\t# dt = 1./50\n",
    "else:\n",
    "\tdr = 30.\n",
    "\t# dt = 1./50\n",
    "\n",
    "# rr = (dr/2) + (np.arange(0,ng,gstep) * dr)\n",
    "\n",
    "R = np.arange(0, gateCount)*dr\n",
    "C = rkid.header['config']['ZCal']\n",
    "Cd = rkid.header['config']['DCal']\n",
    "Cp = rkid.header['config']['PCal']\n",
    "\n",
    "moments = mg.get_moments(X_h, X_v, N_h, N_v, R, va, C, Cd, Cp)\n",
    "# moments_f = mg.get_moments(filtered_X_h_optimized, filtered_X_v_optimized, N_h, N_v, R, va, C, Cd, Cp)"
   ]
  },
  {
   "cell_type": "code",
   "execution_count": null,
   "id": "f91d9913",
   "metadata": {},
   "outputs": [
    {
     "name": "stdout",
     "output_type": "stream",
     "text": [
      "[[-196.55476913 -199.1216006  -184.27667233 ... -211.23726573\n",
      "  -214.64926712 -207.91724028]\n",
      " [-196.57054891 -198.84888189 -189.73786135 ... -216.09798568\n",
      "  -202.31144515           nan]\n",
      " [-196.55761008 -198.72984298 -190.98474979 ... -221.10364429\n",
      "  -195.13180197           nan]\n",
      " ...\n",
      " [-196.58196099 -197.30074044 -195.13254303 ...           nan\n",
      "  -210.16930961           nan]\n",
      " [-196.59150836 -198.15150529 -196.47155526 ...           nan\n",
      "            nan -208.73959425]\n",
      " [-196.57779007 -197.41777374 -199.93200768 ...           nan\n",
      "            nan -215.67309209]]\n"
     ]
    }
   ],
   "source": [
    "from raxpolCf import raxpolCf\n",
    "\n",
    "fname_out = '../data/out/20240524/RAXPOL-20240524-000839.nc'\n",
    "\n",
    "rcf = raxpolCf()\n",
    "rcf.setVolume()\n",
    "rcf.setSweep()\n",
    "rcf.setTime((rkid.pulses['time_tv_sec'][:n:count]).astype(np.float64))\n",
    "rcf.setRange(R.astype(np.float32))\n",
    "rcf.setPosition(np.nanmean(rkid.header['desc']['latitude']), np.nanmean(rkid.header['desc']['longitude']))\n",
    "rcf.setScanningStrategy('ppi')\n",
    "rcf.setTargetAngle(np.nanmean(rkid.pulses['elevationDegrees']))\n",
    "rcf.setAzimuth(az)\n",
    "rcf.setElevation(el)\n",
    "rcf.setPulseWidthSeconds((rkid.pulses['pulseWidthSampleCount'][:n:count]*sample_time).astype(np.float32))\n",
    "rcf.setPrtSeconds(np.tile(prt, (rayCount,1)))\n",
    "rcf.setWavelengthMeters(np.tile(prt, (rayCount,1)))\n",
    "\n",
    "print(moments['ZDR'])\n",
    "rcf.setDBZ(moments['DBZ'])\n",
    "rcf.setVEL(moments['VEL'])\n",
    "rcf.setWIDTH(moments['WIDTH'])\n",
    "rcf.setZDR(moments['ZDR'])\n",
    "rcf.setRHOHV(moments['RHOHV'])\n",
    "rcf.setPHIDP(moments['PHIDP'], units='degrees')\n",
    "rcf.setSNRH(moments['SNRH'])\n",
    "rcf.setSNRV(moments['SNRV'])\n",
    "\n",
    "rcf.saveToFile(fname_out)"
   ]
  }
 ],
 "metadata": {
  "kernelspec": {
   "display_name": "met",
   "language": "python",
   "name": "python3"
  },
  "language_info": {
   "codemirror_mode": {
    "name": "ipython",
    "version": 3
   },
   "file_extension": ".py",
   "mimetype": "text/x-python",
   "name": "python",
   "nbconvert_exporter": "python",
   "pygments_lexer": "ipython3",
   "version": "3.11.7"
  }
 },
 "nbformat": 4,
 "nbformat_minor": 5
}
